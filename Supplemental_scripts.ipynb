{
  "nbformat": 4,
  "nbformat_minor": 0,
  "metadata": {
    "colab": {
      "provenance": [],
      "toc_visible": true
    },
    "kernelspec": {
      "name": "python3",
      "display_name": "Python 3"
    },
    "language_info": {
      "name": "python"
    }
  },
  "cells": [
    {
      "cell_type": "markdown",
      "source": [
        "# Supplemental scripts for the identification of MADA motif\n",
        "\n",
        "To use each supplemental script, Click the Run button to the left of the code.\n",
        "\n",
        "The output of below codes will be accessed from the left folder menu.\n",
        "\n",
        "**!!! Please run the below code before using scripts in this notebook !!!**"
      ],
      "metadata": {
        "id": "bu5GqKvft1Fu"
      }
    },
    {
      "cell_type": "code",
      "source": [
        "!pip install biopython\n",
        "from Bio import SeqIO\n",
        "import pandas as pd"
      ],
      "metadata": {
        "id": "kBQ0IxuIvRzv"
      },
      "execution_count": null,
      "outputs": []
    },
    {
      "cell_type": "markdown",
      "source": [
        "# Supplemental script 1. Extract NB-ARC sequences based on ZAR1\n",
        "\n",
        "The below code generate alignment fasta of NB-ARC regions of AtZAR1 (\"Alignment_NB_AtZAR1.fasta\").\n",
        "\n",
        "- Sequences that lack the intact p-loop motif (GorAXXXXGKTorS) required for NLR protein function are discarded.\n",
        "\n",
        "- The sequence gaps in the alignments are deleted."
      ],
      "metadata": {
        "id": "Zf8zKn2JtjpN"
      }
    },
    {
      "cell_type": "code",
      "execution_count": null,
      "metadata": {
        "id": "OCxoEqGmldXu"
      },
      "outputs": [],
      "source": [
        "#@title Upload alignment protein sequences of NLRs that contains \"AtZAR1\" sequence\n",
        "from google.colab import files\n",
        "files = files.upload()\n",
        "file_name = list(files.keys())[0]"
      ]
    },
    {
      "cell_type": "code",
      "source": [
        "# convert sequence to table\n",
        "IDs = []\n",
        "seqs = []\n",
        "for record in SeqIO.parse(file_name, 'fasta'):\n",
        "    IDs.append(str(record.id))\n",
        "    seqs.append(list(str(record.seq)))\n",
        "seqs = pd.DataFrame(seqs, index=IDs)\n",
        "\n",
        "# extract positions of NBARC of AtZAR1\n",
        "seqs = seqs.loc[:, seqs.loc[\"AtZAR1\", :] != \"-\"]\n",
        "AtZAR1_seq = \"\".join(seqs.loc[\"AtZAR1\", :].values)\n",
        "NB_start = AtZAR1_seq.find(\"NGTDR\")\n",
        "NB_end = AtZAR1_seq.find(\"LNCRH\")\n",
        "\n",
        "# extract sequences in NBARC positions\n",
        "seqs = seqs.iloc[:, NB_start:NB_end+5]\n",
        "\n",
        "# NBARC sequeces contains intact p-loop to fasta\n",
        "with open(\"NLR_set_alignment_NBARC_RemGap.fasta\", mode='w') as f:\n",
        "    for i in range(seqs.shape[0]):\n",
        "        seq = \"\".join(seqs.iloc[i, :].tolist())\n",
        "        if (seq[44] == \"G\") or (seq[44] == \"A\"):\n",
        "            if (seq[49:51] == \"GK\"):\n",
        "                if (seq[51] == \"T\") or (seq[51] == \"S\"):\n",
        "                  f.write(\">\"+seqs.index[i])\n",
        "                  f.write(\"\\n\")\n",
        "                  f.write(seq)\n",
        "                  f.write(\"\\n\")"
      ],
      "metadata": {
        "id": "crO_ZGsboKJ9"
      },
      "execution_count": null,
      "outputs": []
    },
    {
      "cell_type": "markdown",
      "source": [
        "# Supplemental script 2. Extract sequences of your interest ids from fasta file\n",
        "\n",
        "The below code extract protein sequences of your interest from a big fasta file.\n",
        "\n",
        "ex) After you get protein ids of CC-NLRs from phylogenetic tree\n",
        "\n",
        "ex) After you get protein ids of specific Tribe from MCL analysis.\n",
        "\n",
        "Required Input file\n",
        "- fasta file that contains protein sequences\n",
        "- text file of protein ids that you want to extract (1id written in 1line) like↓\n",
        "\n",
        "```\n",
        "Solyc08g075640.2.1\n",
        "NbS00002061g0001.1\n",
        "HORVU.MOREX.r3.3HG0295670.1\n",
        "HORVU.MOREX.r3.7HG0634540.1\n",
        "LOC_Os10g07400.1\n",
        "…\n",
        "```\n"
      ],
      "metadata": {
        "id": "FwnSiM8PI0uV"
      }
    },
    {
      "cell_type": "code",
      "source": [
        "#@title Upload protein sequences that contains your interest protein ids\n",
        "from google.colab import files\n",
        "files = files.upload()\n",
        "fasta_file = list(files.keys())[0]"
      ],
      "metadata": {
        "id": "JHkRuEGeLLgX"
      },
      "execution_count": null,
      "outputs": []
    },
    {
      "cell_type": "code",
      "source": [
        "#@title Upload text file of your interest protein ids\n",
        "from google.colab import files\n",
        "files = files.upload()\n",
        "id_file = list(files.keys())[0]"
      ],
      "metadata": {
        "id": "BsyuC2ItLWtY"
      },
      "execution_count": null,
      "outputs": []
    },
    {
      "cell_type": "code",
      "source": [
        "# @title Output fasta file name\n",
        "\n",
        "output_name = \"test.fasta\" # @param {type:\"string\"}"
      ],
      "metadata": {
        "cellView": "form",
        "id": "g1d_iSn9LsVe"
      },
      "execution_count": null,
      "outputs": []
    },
    {
      "cell_type": "code",
      "source": [
        "with open(id_file, mode='r') as f:\n",
        "    ids = f.read()\n",
        "\n",
        "with open(output_name, mode='w') as f:\n",
        "    for record in SeqIO.parse(fasta_file, 'fasta'):\n",
        "        if str(record.id) in ids.split(\"\\n\"):\n",
        "            f.write(\">\"+str(record.id))\n",
        "            f.write(\"\\n\")\n",
        "            f.write(str(record.seq))\n",
        "            f.write(\"\\n\")"
      ],
      "metadata": {
        "id": "8Z-jz9ffLctw"
      },
      "execution_count": null,
      "outputs": []
    },
    {
      "cell_type": "markdown",
      "source": [
        "# Supplemental script 3. Extract N-terminal sequences from alignment NLR sequences\n",
        "\n",
        "The below code generate fasta file of sequences prior to the NB-ARC domain (\"N-terminal.fasta\").\n",
        "\n",
        "N-terminal regions are defined based on the NB-ARC region of Arabidopsis ZAR1."
      ],
      "metadata": {
        "id": "_3zH00FUy-dK"
      }
    },
    {
      "cell_type": "code",
      "source": [
        "#@title Upload alignment protein sequences of NLRs that contains \"AtZAR1\" sequence\n",
        "from google.colab import files\n",
        "files = files.upload()\n",
        "file_name = list(files.keys())[0]"
      ],
      "metadata": {
        "id": "RMw7eNSBzjHr"
      },
      "execution_count": null,
      "outputs": []
    },
    {
      "cell_type": "code",
      "source": [
        "# convert sequence to table\n",
        "IDs = []\n",
        "seqs = []\n",
        "for record in SeqIO.parse(file_name, 'fasta'):\n",
        "    IDs.append(str(record.id))\n",
        "    seqs.append(list(str(record.seq)))\n",
        "seqs = pd.DataFrame(seqs, index=IDs)\n",
        "\n",
        "# identify index of start position of NBARC region\n",
        "start_AA = \"NGTDR\"\n",
        "start = []\n",
        "start_idx = []\n",
        "for idx, aa in enumerate(seqs.loc[\"AtZAR1\", :].values):\n",
        "    if aa == \"-\":\n",
        "        pass\n",
        "    else:\n",
        "        if len(start) > 0:\n",
        "            if aa == start_AA[len(start)]:\n",
        "                start.append(aa)\n",
        "                start_idx.append(idx)\n",
        "                if len(start) == 5:\n",
        "                    break\n",
        "            else:\n",
        "                if aa == \"N\":\n",
        "                    start = [\"N\"]\n",
        "                    start_idx = [idx]\n",
        "                else:\n",
        "                    start = []\n",
        "                    start_idx = []\n",
        "        elif aa == \"N\":\n",
        "            start = [aa]\n",
        "            start_idx = [idx]\n",
        "\n",
        "# extract N-terminal sequences\n",
        "with open(\"N-terminal.fasta\", mode='w') as f:\n",
        "    tmp_seqs = seqs.iloc[:, :start_idx[0]]\n",
        "    for i in range(tmp_seqs.shape[0]):\n",
        "        sequence = \"\".join(tmp_seqs.iloc[i, :][tmp_seqs.iloc[i, :] != \"-\"].values)\n",
        "        if len(sequence) > 0:\n",
        "            f.write(\">\"+str(tmp_seqs.index[i]))\n",
        "            f.write(\"\\n\")\n",
        "            f.write(sequence)\n",
        "            f.write(\"\\n\")"
      ],
      "metadata": {
        "id": "D2WUuhDMzzJd"
      },
      "execution_count": null,
      "outputs": []
    },
    {
      "cell_type": "markdown",
      "source": [
        "# Supplemental script 4. Convert the output of `mclblastline` to Tribe data\n",
        "\n",
        "The below code generate table of protein ids with tribe information (\"Tribe_table.csv\")."
      ],
      "metadata": {
        "id": "8rqwa26c1Ljs"
      }
    },
    {
      "cell_type": "code",
      "source": [
        "#@title Upload result of mclblastline (like dump.out.XXX)\n",
        "from google.colab import files\n",
        "files = files.upload()\n",
        "file_name = list(files.keys())[0]"
      ],
      "metadata": {
        "id": "3EP_hGjP1Kt5"
      },
      "execution_count": null,
      "outputs": []
    },
    {
      "cell_type": "code",
      "source": [
        "tribe_table = []\n",
        "with open(file_name) as f:\n",
        "    tribe=0\n",
        "    for s_line in f:\n",
        "        tribe+=1\n",
        "        for pep_id in s_line.split(\"\\t\"):\n",
        "            if pep_id.find(\"\\n\") > 0:\n",
        "                tribe_table.append([f\"tribe{tribe}\", pep_id[:-1]])\n",
        "            else:\n",
        "                tribe_table.append([f\"tribe{tribe}\", pep_id])\n",
        "pd.DataFrame(tribe_table).to_csv(\"Tribe_table.csv\", index=None)"
      ],
      "metadata": {
        "id": "K1Mt1zq61twp"
      },
      "execution_count": null,
      "outputs": []
    },
    {
      "cell_type": "code",
      "source": [],
      "metadata": {
        "id": "9YBh-mUZGPx0"
      },
      "execution_count": null,
      "outputs": []
    }
  ]
}